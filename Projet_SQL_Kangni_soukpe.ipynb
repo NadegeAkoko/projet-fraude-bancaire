{
  "nbformat": 4,
  "nbformat_minor": 0,
  "metadata": {
    "colab": {
      "provenance": []
    },
    "kernelspec": {
      "name": "python3",
      "display_name": "Python 3"
    },
    "language_info": {
      "name": "python"
    }
  },
  "cells": [
    {
      "cell_type": "code",
      "execution_count": 1,
      "metadata": {
        "colab": {
          "base_uri": "https://localhost:8080/"
        },
        "id": "sZ8Lyz8AAxAL",
        "outputId": "e28ecdfc-fbe3-42a9-adf9-52e295ee51e8"
      },
      "outputs": [
        {
          "output_type": "stream",
          "name": "stdout",
          "text": [
            "Requirement already satisfied: pandas in /usr/local/lib/python3.11/dist-packages (2.2.2)\n",
            "Requirement already satisfied: numpy>=1.23.2 in /usr/local/lib/python3.11/dist-packages (from pandas) (1.26.4)\n",
            "Requirement already satisfied: python-dateutil>=2.8.2 in /usr/local/lib/python3.11/dist-packages (from pandas) (2.8.2)\n",
            "Requirement already satisfied: pytz>=2020.1 in /usr/local/lib/python3.11/dist-packages (from pandas) (2025.1)\n",
            "Requirement already satisfied: tzdata>=2022.7 in /usr/local/lib/python3.11/dist-packages (from pandas) (2025.1)\n",
            "Requirement already satisfied: six>=1.5 in /usr/local/lib/python3.11/dist-packages (from python-dateutil>=2.8.2->pandas) (1.17.0)\n"
          ]
        }
      ],
      "source": [
        " ## Projet Kangni-soukpe\n",
        "\n",
        "!pip install pandas\n"
      ]
    },
    {
      "cell_type": "code",
      "source": [
        "## Creation de la base sql\n",
        "\n",
        "import sqlite3\n",
        "\n",
        "# Connexion à la base de données SQLite\n",
        "conn = sqlite3.connect('/content/transactions.db')\n",
        "\n",
        "# Création d'un curseur\n",
        "cursor = conn.cursor()"
      ],
      "metadata": {
        "id": "rhG8MfnsCTq5"
      },
      "execution_count": 2,
      "outputs": []
    },
    {
      "cell_type": "code",
      "source": [
        "\n",
        "# Création des tables\n",
        "\n",
        "## Creation de la table clients\n",
        "\n",
        "try:\n",
        "  cursor.execute('''\n",
        "    CREATE TABLE IF NOT EXISTS Clients (\n",
        "        client_id INTEGER PRIMARY KEY AUTOINCREMENT,\n",
        "        nom TEXT,\n",
        "        prenom TEXT,\n",
        "        age INTEGER,\n",
        "        sexe TEXT,\n",
        "        pays TEXT,\n",
        "        revenu_annuel REAL\n",
        "    )\n",
        "''')\n",
        "\n",
        "## Creation de la table Compte\n",
        "\n",
        "  cursor.execute('''\n",
        "    CREATE TABLE IF NOT EXISTS Comptes (\n",
        "        compte_id INTEGER PRIMARY KEY AUTOINCREMENT,\n",
        "        client_id INTEGER,\n",
        "        type_compte TEXT,\n",
        "        solde REAL,\n",
        "        date_creation TEXT,\n",
        "        FOREIGN KEY (client_id) REFERENCES Clients(client_id)\n",
        "    )\n",
        "''')\n",
        "\n",
        "## Creation de la table transaction\n",
        "\n",
        "  cursor.execute('''\n",
        "    CREATE TABLE IF NOT EXISTS Transactions (\n",
        "        transaction_id INTEGER PRIMARY KEY AUTOINCREMENT,\n",
        "        compte_id INTEGER,\n",
        "        montant REAL,\n",
        "        date_transaction TEXT,\n",
        "        type_transaction TEXT,\n",
        "        lieu TEXT,\n",
        "        fraude BOOLEAN,\n",
        "        FOREIGN KEY (compte_id) REFERENCES Comptes(compte_id)\n",
        "    )\n",
        "''')\n",
        "\n",
        " # Validation des changements\n",
        "  conn.commit()\n",
        "  print(\"Tables créées avec succès.\")\n",
        "\n",
        "except sqlite3.Error as e:\n",
        "    print(f\"Erreur SQLite : {e}\")\n",
        "\n",
        "# Toujours fermer la connexion à la fin\n",
        "finally:\n",
        "    conn.close()\n"
      ],
      "metadata": {
        "colab": {
          "base_uri": "https://localhost:8080/"
        },
        "id": "F9a0AK8OCkro",
        "outputId": "2f78b50b-734f-4893-ba01-c0da924d764a"
      },
      "execution_count": 3,
      "outputs": [
        {
          "output_type": "stream",
          "name": "stdout",
          "text": [
            "Tables créées avec succès.\n"
          ]
        }
      ]
    },
    {
      "cell_type": "code",
      "source": [
        "import os\n",
        "import sqlite3\n",
        "\n",
        "# Supprimer l'ancienne base de données si elle existe\n",
        "db_path = '/content/transactions.db'\n",
        "if os.path.exists(db_path):\n",
        "    os.remove(db_path)\n",
        "    print(f\"Base de données '{db_path}' supprimée.\")"
      ],
      "metadata": {
        "id": "ES94lrDrHqOK",
        "colab": {
          "base_uri": "https://localhost:8080/"
        },
        "outputId": "7c3e46cb-ab57-4f40-87c7-a25175f42589"
      },
      "execution_count": 4,
      "outputs": [
        {
          "output_type": "stream",
          "name": "stdout",
          "text": [
            "Base de données '/content/transactions.db' supprimée.\n"
          ]
        }
      ]
    },
    {
      "cell_type": "code",
      "source": [
        "## Creation de la base sql\n",
        "\n",
        "import sqlite3\n",
        "\n",
        "# Connexion à la base de données SQLite\n",
        "conn = sqlite3.connect(db_path)\n",
        "\n",
        "# Création d'un curseur\n",
        "cursor = conn.cursor()"
      ],
      "metadata": {
        "id": "5LsqooA3Hx6m"
      },
      "execution_count": 5,
      "outputs": []
    },
    {
      "cell_type": "code",
      "source": [
        "import os\n",
        "import sqlite3\n",
        "\n",
        "# Recréation des nouvelles tables\n",
        "\n",
        "## Creation de la table Clients\n",
        "cursor.execute('''\n",
        "    CREATE TABLE IF NOT EXISTS Clients (\n",
        "        client_id INTEGER PRIMARY KEY AUTOINCREMENT,\n",
        "        nom TEXT,\n",
        "        prenom TEXT,\n",
        "        age INTEGER,\n",
        "        sexe TEXT,\n",
        "        pays TEXT,\n",
        "        revenu_annuel REAL\n",
        "    )\n",
        "''')\n",
        "\n",
        "## Creation de la table Comptes\n",
        "cursor.execute('''\n",
        "    CREATE TABLE IF NOT EXISTS Comptes (\n",
        "        compte_id INTEGER PRIMARY KEY AUTOINCREMENT,\n",
        "        client_id INTEGER,\n",
        "        type_compte TEXT,\n",
        "        solde REAL,\n",
        "        date_creation TEXT,\n",
        "        FOREIGN KEY (client_id) REFERENCES Clients(client_id)\n",
        "    )\n",
        "''')\n",
        "\n",
        "## Creation de la table transaction\n",
        "cursor.execute('''\n",
        "    CREATE TABLE IF NOT EXISTS Transactions (\n",
        "        transaction_id INTEGER PRIMARY KEY AUTOINCREMENT,\n",
        "        compte_id INTEGER,\n",
        "        montant REAL,\n",
        "        date_transaction TEXT,\n",
        "        type_transaction TEXT,\n",
        "        lieu TEXT,\n",
        "        fraude BOOLEAN,\n",
        "        FOREIGN KEY (compte_id) REFERENCES Comptes(compte_id)\n",
        "    )\n",
        "''')\n",
        "\n",
        "# Commit pour valider les changements\n",
        "conn.commit()\n",
        "print(\"Tables créées avec succès.\")\n",
        "\n",
        "# Vérification\n",
        "print(\"Nouvelle base de données créée et tables initialisées avec succès.\")\n",
        "\n",
        "\n"
      ],
      "metadata": {
        "colab": {
          "base_uri": "https://localhost:8080/"
        },
        "id": "5iHrG8KHH1vd",
        "outputId": "8edc1afe-29cd-4365-9e49-2ec735c606c9"
      },
      "execution_count": 6,
      "outputs": [
        {
          "output_type": "stream",
          "name": "stdout",
          "text": [
            "Tables créées avec succès.\n",
            "Nouvelle base de données créée et tables initialisées avec succès.\n"
          ]
        }
      ]
    },
    {
      "cell_type": "code",
      "source": [
        "import sqlite3\n",
        "\n",
        "# Connexion à la base de données\n",
        "conn = sqlite3.connect('/content/transactions.db')\n",
        "cursor = conn.cursor()\n",
        "\n",
        "try:\n",
        "    # Insertion de données dans la table Clients\n",
        "    cursor.execute('''\n",
        "        INSERT INTO Clients (nom, prenom, age, sexe, pays, revenu_annuel)\n",
        "        VALUES\n",
        "        ('Dupont', 'Marie', 28, 'F', 'France', 35000),\n",
        "        ('Martin', 'Pierre', 34, 'M', 'France', 45000),\n",
        "        ('Leblanc', 'Claire', 41, 'F', 'France', 52000),\n",
        "        ('Lemoine', 'Alexandre', 23, 'M', 'Belgique', 30000),\n",
        "        ('Benoit', 'Sophie', 45, 'F', 'France', 60000),\n",
        "        ('Dufresne', 'Julien', 38, 'M', 'Belgique', 40000),\n",
        "        ('Michaud', 'Lucie', 32, 'F', 'France', 42000),\n",
        "        ('Gauthier', 'Antoine', 29, 'M', 'France', 55000),\n",
        "        ('Leclerc', 'Emilie', 36, 'F', 'Belgique', 38000),\n",
        "        ('Tanguy', 'Louis', 50, 'M', 'France', 70000),\n",
        "        ('Charlier', 'Elise', 40, 'F', 'Belgique', 48000),\n",
        "        ('Dumont', 'Jean', 25, 'M', 'France', 33000),\n",
        "        ('Fournier', 'Alice', 30, 'F', 'France', 39000),\n",
        "        ('Boucher', 'Rémy', 47, 'M', 'Belgique', 55000),\n",
        "        ('Girard', 'Laurent', 33, 'M', 'France', 46000),\n",
        "        ('Vasseur', 'Caroline', 39, 'F', 'France', 49000),\n",
        "        ('Charpentier', 'David', 42, 'M', 'Belgique', 53000),\n",
        "        ('Roussel', 'Marc', 31, 'M', 'France', 36000),\n",
        "        ('Lemoine', 'Valérie', 27, 'F', 'Belgique', 43000),\n",
        "        ('Guerin', 'Patrick', 44, 'M', 'France', 48000),\n",
        "        ('Mercier', 'Amandine', 35, 'F', 'France', 60000),\n",
        "        ('Perrot', 'Maxime', 22, 'M', 'Belgique', 34000),\n",
        "        ('Joly', 'Sébastien', 48, 'M', 'France', 68000),\n",
        "        ('Lemoine', 'Bernadette', 54, 'F', 'Belgique', 75000),\n",
        "        ('Marchand', 'Vincent', 38, 'M', 'France', 52000),\n",
        "        ('Pires', 'Aurélie', 33, 'F', 'France', 46000),\n",
        "        ('Durand', 'Jean-Pierre', 49, 'M', 'Belgique', 49000),\n",
        "        ('Lebrun', 'Sandrine', 46, 'F', 'France', 56000),\n",
        "        ('Aubert', 'Thierry', 53, 'M', 'Belgique', 62000),\n",
        "        ('Legrand', 'Sylvie', 41, 'F', 'France', 54000)\n",
        "    ''')\n",
        "\n",
        "    # Insertion de données dans la table Comptes\n",
        "    cursor.execute('''\n",
        "        INSERT INTO Comptes (client_id, type_compte, solde, date_creation)\n",
        "        VALUES\n",
        "        (1, 'Courant', 1500.75, '2023-01-15'),\n",
        "        (2, 'Épargne', 25000.40, '2022-06-23'),\n",
        "        (3, 'Courant', 1200.50, '2023-03-05'),\n",
        "        (4, 'Épargne', 5000.10, '2022-08-19'),\n",
        "        (5, 'Courant', 2200.80, '2023-02-20'),\n",
        "        (6, 'Épargne', 13000.15, '2022-12-14'),\n",
        "        (7, 'Courant', 3100.25, '2023-05-01'),\n",
        "        (8, 'Épargne', 5000.55, '2022-07-30'),\n",
        "        (9, 'Courant', 4200.60, '2023-01-18'),\n",
        "        (10, 'Épargne', 25000.00, '2022-11-10'),\n",
        "        (11, 'Courant', 1800.75, '2023-02-25'),\n",
        "        (12, 'Épargne', 12000.80, '2022-05-17'),\n",
        "        (13, 'Courant', 5500.90, '2023-03-15'),\n",
        "        (14, 'Épargne', 15000.25, '2022-10-01'),\n",
        "        (15, 'Courant', 4200.10, '2023-04-12'),\n",
        "        (16, 'Épargne', 8000.50, '2022-09-23'),\n",
        "        (17, 'Courant', 3900.30, '2023-01-30'),\n",
        "        (18, 'Épargne', 14000.80, '2022-08-14'),\n",
        "        (19, 'Courant', 2500.90, '2023-02-05'),\n",
        "        (20, 'Épargne', 7000.60, '2022-11-20'),\n",
        "        (21, 'Courant', 3100.20, '2023-03-10'),\n",
        "        (22, 'Épargne', 14000.90, '2022-12-02'),\n",
        "        (23, 'Courant', 5600.70, '2023-01-25'),\n",
        "        (24, 'Épargne', 17500.50, '2022-06-13'),\n",
        "        (25, 'Courant', 4300.80, '2023-02-28'),\n",
        "        (26, 'Épargne', 9500.40, '2022-07-07'),\n",
        "        (27, 'Courant', 2700.60, '2023-01-10'),\n",
        "        (28, 'Épargne', 17000.25, '2022-09-03'),\n",
        "        (29, 'Courant', 3900.90, '2023-04-05'),\n",
        "        (30, 'Épargne', 12000.75, '2022-11-15')\n",
        "    ''')\n",
        "\n",
        "    # Insertion de données dans la table Transactions\n",
        "    cursor.execute('''\n",
        "        INSERT INTO Transactions (compte_id, montant, date_transaction, type_transaction, lieu, fraude)\n",
        "        VALUES\n",
        "        (1, 200.00, '2025-02-10', 'Virement', 'Paris', 0),\n",
        "        (2, 500.00, '2025-02-12', 'Retrait', 'Bruxelles', 1),\n",
        "        (3, 150.00, '2025-02-14', 'Virement', 'Lyon', 0),\n",
        "        (4, 1000.00, '2025-02-15', 'Retrait', 'Lille', 0),\n",
        "        (5, 250.00, '2025-02-16', 'Virement', 'Paris', 0),\n",
        "        (6, 1500.00, '2025-02-17', 'Retrait', 'Bruxelles', 0),\n",
        "        (7, 200.00, '2025-02-18', 'Virement', 'Lyon', 0),\n",
        "        (8, 1200.00, '2025-02-19', 'Retrait', 'Lille', 0),\n",
        "        (9, 350.00, '2025-02-20', 'Virement', 'Paris', 0),\n",
        "        (10, 500.00, '2025-02-21', 'Retrait', 'Bruxelles', 0),\n",
        "        (11, 900.00, '2025-02-22', 'Virement', 'Lyon', 0),\n",
        "        (12, 300.00, '2025-02-23', 'Retrait', 'Lille', 1),\n",
        "        (13, 1500.00, '2025-02-24', 'Virement', 'Paris', 0),\n",
        "        (14, 800.00, '2025-02-25', 'Retrait', 'Bruxelles', 0),\n",
        "        (15, 600.00, '2025-02-26', 'Virement', 'Lyon', 0),\n",
        "        (16, 400.00, '2025-02-27', 'Retrait', 'Lille', 0),\n",
        "        (17, 220.00, '2025-02-28', 'Virement', 'Paris', 0),\n",
        "        (18, 700.00, '2025-03-01', 'Retrait', 'Bruxelles', 0),\n",
        "        (19, 500.00, '2025-03-02', 'Virement', 'Lyon', 0),\n",
        "        (20, 300.00, '2025-03-03', 'Retrait', 'Lille', 1),\n",
        "        (21, 250.00, '2025-03-04', 'Virement', 'Paris', 0),\n",
        "        (22, 550.00, '2025-03-05', 'Retrait', 'Bruxelles', 0),\n",
        "        (23, 200.00, '2025-03-06', 'Virement', 'Lyon', 0),\n",
        "        (24, 1000.00, '2025-03-07', 'Retrait', 'Lille', 0),\n",
        "        (25, 1200.00, '2025-03-08', 'Virement', 'Paris', 0),\n",
        "        (26, 900.00, '2025-03-09', 'Retrait', 'Bruxelles', 0),\n",
        "        (27, 750.00, '2025-03-10', 'Virement', 'Lyon', 0),\n",
        "        (28, 600.00, '2025-03-11', 'Retrait', 'Lille', 1),\n",
        "        (29, 1100.00, '2025-03-12', 'Virement', 'Paris', 0),\n",
        "        (30, 400.00, '2025-03-13', 'Retrait', 'Bruxelles', 0)\n",
        "    ''')\n",
        "\n",
        "    # Commit pour enregistrer les données\n",
        "    conn.commit()\n",
        "\n",
        "    # Vérification de l'insertion : affichage des données dans la table Clients\n",
        "    cursor.execute(\"SELECT * FROM Clients\")\n",
        "    print(cursor.fetchall())\n",
        "\n",
        "except sqlite3.Error as e:\n",
        "    print(f\"Erreur d'insertion : {e}\")\n",
        "    conn.rollback()\n",
        "\n",
        "finally:\n",
        "    # Fermeture de la connexion\n",
        "    conn.close()\n"
      ],
      "metadata": {
        "colab": {
          "base_uri": "https://localhost:8080/"
        },
        "id": "S0inPZMVJaxh",
        "outputId": "073c7c05-5465-4647-86b5-16c28cb83ed0"
      },
      "execution_count": 7,
      "outputs": [
        {
          "output_type": "stream",
          "name": "stdout",
          "text": [
            "[(1, 'Dupont', 'Marie', 28, 'F', 'France', 35000.0), (2, 'Martin', 'Pierre', 34, 'M', 'France', 45000.0), (3, 'Leblanc', 'Claire', 41, 'F', 'France', 52000.0), (4, 'Lemoine', 'Alexandre', 23, 'M', 'Belgique', 30000.0), (5, 'Benoit', 'Sophie', 45, 'F', 'France', 60000.0), (6, 'Dufresne', 'Julien', 38, 'M', 'Belgique', 40000.0), (7, 'Michaud', 'Lucie', 32, 'F', 'France', 42000.0), (8, 'Gauthier', 'Antoine', 29, 'M', 'France', 55000.0), (9, 'Leclerc', 'Emilie', 36, 'F', 'Belgique', 38000.0), (10, 'Tanguy', 'Louis', 50, 'M', 'France', 70000.0), (11, 'Charlier', 'Elise', 40, 'F', 'Belgique', 48000.0), (12, 'Dumont', 'Jean', 25, 'M', 'France', 33000.0), (13, 'Fournier', 'Alice', 30, 'F', 'France', 39000.0), (14, 'Boucher', 'Rémy', 47, 'M', 'Belgique', 55000.0), (15, 'Girard', 'Laurent', 33, 'M', 'France', 46000.0), (16, 'Vasseur', 'Caroline', 39, 'F', 'France', 49000.0), (17, 'Charpentier', 'David', 42, 'M', 'Belgique', 53000.0), (18, 'Roussel', 'Marc', 31, 'M', 'France', 36000.0), (19, 'Lemoine', 'Valérie', 27, 'F', 'Belgique', 43000.0), (20, 'Guerin', 'Patrick', 44, 'M', 'France', 48000.0), (21, 'Mercier', 'Amandine', 35, 'F', 'France', 60000.0), (22, 'Perrot', 'Maxime', 22, 'M', 'Belgique', 34000.0), (23, 'Joly', 'Sébastien', 48, 'M', 'France', 68000.0), (24, 'Lemoine', 'Bernadette', 54, 'F', 'Belgique', 75000.0), (25, 'Marchand', 'Vincent', 38, 'M', 'France', 52000.0), (26, 'Pires', 'Aurélie', 33, 'F', 'France', 46000.0), (27, 'Durand', 'Jean-Pierre', 49, 'M', 'Belgique', 49000.0), (28, 'Lebrun', 'Sandrine', 46, 'F', 'France', 56000.0), (29, 'Aubert', 'Thierry', 53, 'M', 'Belgique', 62000.0), (30, 'Legrand', 'Sylvie', 41, 'F', 'France', 54000.0)]\n"
          ]
        }
      ]
    },
    {
      "cell_type": "code",
      "source": [
        "## Affichage de ma table\n",
        "\n",
        "import sqlite3\n",
        "\n",
        "# Connexion à la base de données\n",
        "conn = sqlite3.connect('/content/transactions.db')\n",
        "cursor = conn.cursor()\n",
        "\n",
        "try:\n",
        "    # Affichage de la table Clients\n",
        "    cursor.execute(\"SELECT * FROM Clients\")\n",
        "    clients = cursor.fetchall()\n",
        "    print(\"Données de la table Clients :\")\n",
        "    for client in clients:\n",
        "        print(client)\n",
        "\n",
        "    # Affichage de la table Comptes\n",
        "    cursor.execute(\"SELECT * FROM Comptes\")\n",
        "    comptes = cursor.fetchall()\n",
        "    print(\"\\nDonnées de la table Comptes :\")\n",
        "    for compte in comptes:\n",
        "        print(compte)\n",
        "\n",
        "    # Affichage de la table Transactions\n",
        "    cursor.execute(\"SELECT * FROM Transactions\")\n",
        "    transactions = cursor.fetchall()\n",
        "    print(\"\\nDonnées de la table Transactions :\")\n",
        "    for transaction in transactions:\n",
        "        print(transaction)\n",
        "\n",
        "except sqlite3.Error as e:\n",
        "    print(f\"Erreur lors de la récupération des données : {e}\")\n",
        "\n",
        "finally:\n",
        "    # Fermeture de la connexion\n",
        "    conn.close()\n"
      ],
      "metadata": {
        "colab": {
          "base_uri": "https://localhost:8080/"
        },
        "id": "jXBnvZtvKobP",
        "outputId": "f8335263-a3c1-4d27-d819-fbec0345c60a"
      },
      "execution_count": 8,
      "outputs": [
        {
          "output_type": "stream",
          "name": "stdout",
          "text": [
            "Données de la table Clients :\n",
            "(1, 'Dupont', 'Marie', 28, 'F', 'France', 35000.0)\n",
            "(2, 'Martin', 'Pierre', 34, 'M', 'France', 45000.0)\n",
            "(3, 'Leblanc', 'Claire', 41, 'F', 'France', 52000.0)\n",
            "(4, 'Lemoine', 'Alexandre', 23, 'M', 'Belgique', 30000.0)\n",
            "(5, 'Benoit', 'Sophie', 45, 'F', 'France', 60000.0)\n",
            "(6, 'Dufresne', 'Julien', 38, 'M', 'Belgique', 40000.0)\n",
            "(7, 'Michaud', 'Lucie', 32, 'F', 'France', 42000.0)\n",
            "(8, 'Gauthier', 'Antoine', 29, 'M', 'France', 55000.0)\n",
            "(9, 'Leclerc', 'Emilie', 36, 'F', 'Belgique', 38000.0)\n",
            "(10, 'Tanguy', 'Louis', 50, 'M', 'France', 70000.0)\n",
            "(11, 'Charlier', 'Elise', 40, 'F', 'Belgique', 48000.0)\n",
            "(12, 'Dumont', 'Jean', 25, 'M', 'France', 33000.0)\n",
            "(13, 'Fournier', 'Alice', 30, 'F', 'France', 39000.0)\n",
            "(14, 'Boucher', 'Rémy', 47, 'M', 'Belgique', 55000.0)\n",
            "(15, 'Girard', 'Laurent', 33, 'M', 'France', 46000.0)\n",
            "(16, 'Vasseur', 'Caroline', 39, 'F', 'France', 49000.0)\n",
            "(17, 'Charpentier', 'David', 42, 'M', 'Belgique', 53000.0)\n",
            "(18, 'Roussel', 'Marc', 31, 'M', 'France', 36000.0)\n",
            "(19, 'Lemoine', 'Valérie', 27, 'F', 'Belgique', 43000.0)\n",
            "(20, 'Guerin', 'Patrick', 44, 'M', 'France', 48000.0)\n",
            "(21, 'Mercier', 'Amandine', 35, 'F', 'France', 60000.0)\n",
            "(22, 'Perrot', 'Maxime', 22, 'M', 'Belgique', 34000.0)\n",
            "(23, 'Joly', 'Sébastien', 48, 'M', 'France', 68000.0)\n",
            "(24, 'Lemoine', 'Bernadette', 54, 'F', 'Belgique', 75000.0)\n",
            "(25, 'Marchand', 'Vincent', 38, 'M', 'France', 52000.0)\n",
            "(26, 'Pires', 'Aurélie', 33, 'F', 'France', 46000.0)\n",
            "(27, 'Durand', 'Jean-Pierre', 49, 'M', 'Belgique', 49000.0)\n",
            "(28, 'Lebrun', 'Sandrine', 46, 'F', 'France', 56000.0)\n",
            "(29, 'Aubert', 'Thierry', 53, 'M', 'Belgique', 62000.0)\n",
            "(30, 'Legrand', 'Sylvie', 41, 'F', 'France', 54000.0)\n",
            "\n",
            "Données de la table Comptes :\n",
            "(1, 1, 'Courant', 1500.75, '2023-01-15')\n",
            "(2, 2, 'Épargne', 25000.4, '2022-06-23')\n",
            "(3, 3, 'Courant', 1200.5, '2023-03-05')\n",
            "(4, 4, 'Épargne', 5000.1, '2022-08-19')\n",
            "(5, 5, 'Courant', 2200.8, '2023-02-20')\n",
            "(6, 6, 'Épargne', 13000.15, '2022-12-14')\n",
            "(7, 7, 'Courant', 3100.25, '2023-05-01')\n",
            "(8, 8, 'Épargne', 5000.55, '2022-07-30')\n",
            "(9, 9, 'Courant', 4200.6, '2023-01-18')\n",
            "(10, 10, 'Épargne', 25000.0, '2022-11-10')\n",
            "(11, 11, 'Courant', 1800.75, '2023-02-25')\n",
            "(12, 12, 'Épargne', 12000.8, '2022-05-17')\n",
            "(13, 13, 'Courant', 5500.9, '2023-03-15')\n",
            "(14, 14, 'Épargne', 15000.25, '2022-10-01')\n",
            "(15, 15, 'Courant', 4200.1, '2023-04-12')\n",
            "(16, 16, 'Épargne', 8000.5, '2022-09-23')\n",
            "(17, 17, 'Courant', 3900.3, '2023-01-30')\n",
            "(18, 18, 'Épargne', 14000.8, '2022-08-14')\n",
            "(19, 19, 'Courant', 2500.9, '2023-02-05')\n",
            "(20, 20, 'Épargne', 7000.6, '2022-11-20')\n",
            "(21, 21, 'Courant', 3100.2, '2023-03-10')\n",
            "(22, 22, 'Épargne', 14000.9, '2022-12-02')\n",
            "(23, 23, 'Courant', 5600.7, '2023-01-25')\n",
            "(24, 24, 'Épargne', 17500.5, '2022-06-13')\n",
            "(25, 25, 'Courant', 4300.8, '2023-02-28')\n",
            "(26, 26, 'Épargne', 9500.4, '2022-07-07')\n",
            "(27, 27, 'Courant', 2700.6, '2023-01-10')\n",
            "(28, 28, 'Épargne', 17000.25, '2022-09-03')\n",
            "(29, 29, 'Courant', 3900.9, '2023-04-05')\n",
            "(30, 30, 'Épargne', 12000.75, '2022-11-15')\n",
            "\n",
            "Données de la table Transactions :\n",
            "(1, 1, 200.0, '2025-02-10', 'Virement', 'Paris', 0)\n",
            "(2, 2, 500.0, '2025-02-12', 'Retrait', 'Bruxelles', 1)\n",
            "(3, 3, 150.0, '2025-02-14', 'Virement', 'Lyon', 0)\n",
            "(4, 4, 1000.0, '2025-02-15', 'Retrait', 'Lille', 0)\n",
            "(5, 5, 250.0, '2025-02-16', 'Virement', 'Paris', 0)\n",
            "(6, 6, 1500.0, '2025-02-17', 'Retrait', 'Bruxelles', 0)\n",
            "(7, 7, 200.0, '2025-02-18', 'Virement', 'Lyon', 0)\n",
            "(8, 8, 1200.0, '2025-02-19', 'Retrait', 'Lille', 0)\n",
            "(9, 9, 350.0, '2025-02-20', 'Virement', 'Paris', 0)\n",
            "(10, 10, 500.0, '2025-02-21', 'Retrait', 'Bruxelles', 0)\n",
            "(11, 11, 900.0, '2025-02-22', 'Virement', 'Lyon', 0)\n",
            "(12, 12, 300.0, '2025-02-23', 'Retrait', 'Lille', 1)\n",
            "(13, 13, 1500.0, '2025-02-24', 'Virement', 'Paris', 0)\n",
            "(14, 14, 800.0, '2025-02-25', 'Retrait', 'Bruxelles', 0)\n",
            "(15, 15, 600.0, '2025-02-26', 'Virement', 'Lyon', 0)\n",
            "(16, 16, 400.0, '2025-02-27', 'Retrait', 'Lille', 0)\n",
            "(17, 17, 220.0, '2025-02-28', 'Virement', 'Paris', 0)\n",
            "(18, 18, 700.0, '2025-03-01', 'Retrait', 'Bruxelles', 0)\n",
            "(19, 19, 500.0, '2025-03-02', 'Virement', 'Lyon', 0)\n",
            "(20, 20, 300.0, '2025-03-03', 'Retrait', 'Lille', 1)\n",
            "(21, 21, 250.0, '2025-03-04', 'Virement', 'Paris', 0)\n",
            "(22, 22, 550.0, '2025-03-05', 'Retrait', 'Bruxelles', 0)\n",
            "(23, 23, 200.0, '2025-03-06', 'Virement', 'Lyon', 0)\n",
            "(24, 24, 1000.0, '2025-03-07', 'Retrait', 'Lille', 0)\n",
            "(25, 25, 1200.0, '2025-03-08', 'Virement', 'Paris', 0)\n",
            "(26, 26, 900.0, '2025-03-09', 'Retrait', 'Bruxelles', 0)\n",
            "(27, 27, 750.0, '2025-03-10', 'Virement', 'Lyon', 0)\n",
            "(28, 28, 600.0, '2025-03-11', 'Retrait', 'Lille', 1)\n",
            "(29, 29, 1100.0, '2025-03-12', 'Virement', 'Paris', 0)\n",
            "(30, 30, 400.0, '2025-03-13', 'Retrait', 'Bruxelles', 0)\n"
          ]
        }
      ]
    },
    {
      "cell_type": "code",
      "source": [
        "## Identifier les valeurs manquantes de ma base\n",
        "\n",
        "import pandas as pd\n",
        "\n",
        "# connexion a ma base de données\n",
        "conn = sqlite3.connect('/content/transactions.db')\n",
        "cursor = conn.cursor()\n",
        "\n",
        "# Chargement des tables dans des DataFrames\n",
        "clients_df = pd.read_sql_query(\"SELECT * FROM Clients\", conn)\n",
        "comptes_df = pd.read_sql_query(\"SELECT * FROM Comptes\", conn)\n",
        "transactions_df = pd.read_sql_query(\"SELECT * FROM Transactions\", conn)\n",
        "\n",
        "# Vérification des valeurs manquantes\n",
        "print(\"Clients :\\n\", clients_df.isnull().sum())\n",
        "print(\"\\nComptes :\\n\", comptes_df.isnull().sum())\n",
        "print(\"\\nTransactions :\\n\", transactions_df.isnull().sum())\n",
        "\n",
        "# Fermeture de la connexion\n",
        "conn.close()\n"
      ],
      "metadata": {
        "colab": {
          "base_uri": "https://localhost:8080/"
        },
        "id": "U3lcMDJjPAid",
        "outputId": "4d3bd8bc-8dbe-4144-99b0-4debecf5b50d"
      },
      "execution_count": 9,
      "outputs": [
        {
          "output_type": "stream",
          "name": "stdout",
          "text": [
            "Clients :\n",
            " client_id        0\n",
            "nom              0\n",
            "prenom           0\n",
            "age              0\n",
            "sexe             0\n",
            "pays             0\n",
            "revenu_annuel    0\n",
            "dtype: int64\n",
            "\n",
            "Comptes :\n",
            " compte_id        0\n",
            "client_id        0\n",
            "type_compte      0\n",
            "solde            0\n",
            "date_creation    0\n",
            "dtype: int64\n",
            "\n",
            "Transactions :\n",
            " transaction_id      0\n",
            "compte_id           0\n",
            "montant             0\n",
            "date_transaction    0\n",
            "type_transaction    0\n",
            "lieu                0\n",
            "fraude              0\n",
            "dtype: int64\n"
          ]
        }
      ]
    },
    {
      "cell_type": "code",
      "source": [
        "## Calcul des moyennes, médianes, variances.....\n",
        "\n",
        "# Connexion à ma  base\n",
        "conn = sqlite3.connect('/content/transactions.db')\n",
        "\n",
        "# Chargement de la table Transactions\n",
        "transactions_df = pd.read_sql_query(\"SELECT * FROM Transactions\", conn)\n",
        "\n",
        "\n",
        "print(transactions_df.describe())\n",
        "\n"
      ],
      "metadata": {
        "colab": {
          "base_uri": "https://localhost:8080/"
        },
        "id": "-R7sa_frPVFI",
        "outputId": "567c92f1-460d-43bf-de97-97760d590733"
      },
      "execution_count": 10,
      "outputs": [
        {
          "output_type": "stream",
          "name": "stdout",
          "text": [
            "       transaction_id  compte_id      montant     fraude\n",
            "count       30.000000  30.000000    30.000000  30.000000\n",
            "mean        15.500000  15.500000   634.000000   0.133333\n",
            "std          8.803408   8.803408   396.307091   0.345746\n",
            "min          1.000000   1.000000   150.000000   0.000000\n",
            "25%          8.250000   8.250000   300.000000   0.000000\n",
            "50%         15.500000  15.500000   525.000000   0.000000\n",
            "75%         22.750000  22.750000   900.000000   0.000000\n",
            "max         30.000000  30.000000  1500.000000   1.000000\n"
          ]
        }
      ]
    },
    {
      "cell_type": "code",
      "source": [
        "## Utilisation  des graphiques pour comprendre les tendances\n",
        "\n",
        "import matplotlib.pyplot as plt\n",
        "import seaborn as sns\n",
        "\n",
        "# Visualisation de la répartition des montants de transactions\n",
        "plt.figure(figsize=(10,6))\n",
        "sns.histplot(transactions_df['montant'], bins=30, kde=True)\n",
        "plt.title('Répartition des Montants des Transactions')\n",
        "plt.xlabel('Montant')\n",
        "plt.ylabel('Fréquence')\n",
        "plt.show()"
      ],
      "metadata": {
        "colab": {
          "base_uri": "https://localhost:8080/",
          "height": 565
        },
        "id": "0ORQCPDgQIXT",
        "outputId": "eb0c5a43-e69b-4593-b89c-db540c54b499"
      },
      "execution_count": 11,
      "outputs": [
        {
          "output_type": "display_data",
          "data": {
            "text/plain": [
              "<Figure size 1000x600 with 1 Axes>"
            ],
            "image/png": "[encoded data removed]"
          },
          "metadata": {}
        }
      ]
    },
    {
      "cell_type": "code",
      "source": [
        "import matplotlib.pyplot as plt\n",
        "import seaborn as sns\n",
        "\n",
        "# Visualisation des transactions par type\n",
        "plt.figure(figsize=(8,6))\n",
        "sns.countplot(x='type_transaction', data=transactions_df)\n",
        "plt.title('Répartition des Types de Transactions')\n",
        "plt.xlabel('Type de Transaction')\n",
        "plt.ylabel('Nombre')\n",
        "plt.show()"
      ],
      "metadata": {
        "colab": {
          "base_uri": "https://localhost:8080/",
          "height": 565
        },
        "id": "s1ZeJskgROux",
        "outputId": "cb38dba0-4cd1-407c-9279-5c76973552cd"
      },
      "execution_count": 12,
      "outputs": [
        {
          "output_type": "display_data",
          "data": {
            "text/plain": [
              "<Figure size 800x600 with 1 Axes>"
            ],
            "image/png": "[encoded data removed]"
          },
          "metadata": {}
        }
      ]
    },
    {
      "cell_type": "code",
      "source": [
        "import matplotlib.pyplot as plt\n",
        "import seaborn as sns\n",
        "\n",
        "\n",
        "\n",
        "# Visualisation des transactions par lieu\n",
        "plt.figure(figsize=(12,6))\n",
        "sns.countplot(x='lieu', data=transactions_df, order=transactions_df['lieu'].value_counts().index)\n",
        "plt.title('Répartition des Transactions par Lieu')\n",
        "plt.xlabel('Lieu')\n",
        "plt.ylabel('Nombre')\n",
        "plt.xticks(rotation=45)\n",
        "plt.show()\n",
        "\n",
        "\n",
        "conn.close()"
      ],
      "metadata": {
        "colab": {
          "base_uri": "https://localhost:8080/",
          "height": 606
        },
        "id": "q4IbanSJRerf",
        "outputId": "38fe9bf1-b76f-46f0-c676-6d73ab1e9956"
      },
      "execution_count": 13,
      "outputs": [
        {
          "output_type": "display_data",
          "data": {
            "text/plain": [
              "<Figure size 1200x600 with 1 Axes>"
            ],
            "image/png": "[encoded data removed]"
          },
          "metadata": {}
        }
      ]
    },
    {
      "cell_type": "code",
      "source": [
        "import sqlite3\n",
        "\n",
        "# Connexion à la base de données\n",
        "conn = sqlite3.connect('/content/transactions.db')\n",
        "\n",
        "# Vérifier les tables présentes dans la base de données\n",
        "query = \"SELECT name FROM sqlite_master WHERE type='table';\"\n",
        "tables = pd.read_sql_query(query, conn)\n",
        "\n",
        "# Afficher la liste des tables\n",
        "print(tables)\n"
      ],
      "metadata": {
        "colab": {
          "base_uri": "https://localhost:8080/"
        },
        "id": "44IPc2nRRoXK",
        "outputId": "33f2a720-0c87-407a-d346-ff2b7160a6eb"
      },
      "execution_count": 14,
      "outputs": [
        {
          "output_type": "stream",
          "name": "stdout",
          "text": [
            "              name\n",
            "0          Clients\n",
            "1  sqlite_sequence\n",
            "2          Comptes\n",
            "3     Transactions\n"
          ]
        }
      ]
    },
    {
      "cell_type": "code",
      "source": [
        "## Affichage des informationn de ma base de données\n",
        "\n",
        "# Charger les données pour chaque table\n",
        "clients_df = pd.read_sql_query(\"SELECT * FROM Clients\", conn)\n",
        "comptes_df = pd.read_sql_query(\"SELECT * FROM Comptes\", conn)\n",
        "transactions_df = pd.read_sql_query(\"SELECT * FROM Transactions\", conn)\n",
        "\n",
        "# Afficher un aperçu de chaque DataFrame pour vérifier qu'ils sont bien chargés\n",
        "print(\"Clients data:\", clients_df.head())\n",
        "print(\"Comptes data:\", comptes_df.head())\n",
        "print(\"Transactions data:\", transactions_df.head())\n"
      ],
      "metadata": {
        "colab": {
          "base_uri": "https://localhost:8080/"
        },
        "id": "v5eK_AxDU9XF",
        "outputId": "d838d1c7-f395-478f-cb81-6e2b859010b8"
      },
      "execution_count": 15,
      "outputs": [
        {
          "output_type": "stream",
          "name": "stdout",
          "text": [
            "Clients data:    client_id      nom     prenom  age sexe      pays  revenu_annuel\n",
            "0          1   Dupont      Marie   28    F    France        35000.0\n",
            "1          2   Martin     Pierre   34    M    France        45000.0\n",
            "2          3  Leblanc     Claire   41    F    France        52000.0\n",
            "3          4  Lemoine  Alexandre   23    M  Belgique        30000.0\n",
            "4          5   Benoit     Sophie   45    F    France        60000.0\n",
            "Comptes data:    compte_id  client_id type_compte     solde date_creation\n",
            "0          1          1     Courant   1500.75    2023-01-15\n",
            "1          2          2     Épargne  25000.40    2022-06-23\n",
            "2          3          3     Courant   1200.50    2023-03-05\n",
            "3          4          4     Épargne   5000.10    2022-08-19\n",
            "4          5          5     Courant   2200.80    2023-02-20\n",
            "Transactions data:    transaction_id  compte_id  montant date_transaction type_transaction  \\\n",
            "0               1          1    200.0       2025-02-10         Virement   \n",
            "1               2          2    500.0       2025-02-12          Retrait   \n",
            "2               3          3    150.0       2025-02-14         Virement   \n",
            "3               4          4   1000.0       2025-02-15          Retrait   \n",
            "4               5          5    250.0       2025-02-16         Virement   \n",
            "\n",
            "        lieu  fraude  \n",
            "0      Paris       0  \n",
            "1  Bruxelles       1  \n",
            "2       Lyon       0  \n",
            "3      Lille       0  \n",
            "4      Paris       0  \n"
          ]
        }
      ]
    },
    {
      "cell_type": "code",
      "source": [
        "# Fusionner mes tables\n",
        "data_df = pd.merge(transactions_df, comptes_df, on='compte_id', how='left')\n",
        "data_df = pd.merge(data_df, clients_df, on='client_id', how='left')\n",
        "\n",
        "# Afficher un aperçu des données fusionnées\n",
        "print(data_df.head())\n"
      ],
      "metadata": {
        "colab": {
          "base_uri": "https://localhost:8080/"
        },
        "id": "HyJzRYbnVOU-",
        "outputId": "032d7c77-3870-4bca-e41d-0464d92221df"
      },
      "execution_count": 18,
      "outputs": [
        {
          "output_type": "stream",
          "name": "stdout",
          "text": [
            "   transaction_id  compte_id  montant date_transaction type_transaction  \\\n",
            "0               1          1    200.0       2025-02-10         Virement   \n",
            "1               2          2    500.0       2025-02-12          Retrait   \n",
            "2               3          3    150.0       2025-02-14         Virement   \n",
            "3               4          4   1000.0       2025-02-15          Retrait   \n",
            "4               5          5    250.0       2025-02-16         Virement   \n",
            "\n",
            "        lieu  fraude  client_id type_compte     solde date_creation      nom  \\\n",
            "0      Paris       0          1     Courant   1500.75    2023-01-15   Dupont   \n",
            "1  Bruxelles       1          2     Épargne  25000.40    2022-06-23   Martin   \n",
            "2       Lyon       0          3     Courant   1200.50    2023-03-05  Leblanc   \n",
            "3      Lille       0          4     Épargne   5000.10    2022-08-19  Lemoine   \n",
            "4      Paris       0          5     Courant   2200.80    2023-02-20   Benoit   \n",
            "\n",
            "      prenom  age sexe      pays  revenu_annuel  \n",
            "0      Marie   28    F    France        35000.0  \n",
            "1     Pierre   34    M    France        45000.0  \n",
            "2     Claire   41    F    France        52000.0  \n",
            "3  Alexandre   23    M  Belgique        30000.0  \n",
            "4     Sophie   45    F    France        60000.0  \n"
          ]
        }
      ]
    },
    {
      "cell_type": "code",
      "source": [
        "## Sélection des  variables pertinentes\n",
        "\n",
        "features = data_df[['montant', 'type_transaction', 'lieu', 'revenu_annuel']].copy()\n",
        "target = data_df['fraude']\n",
        "\n",
        "# Encodage des variables catégorielles\n",
        "label_encoder = LabelEncoder()\n",
        "\n",
        "# Encoder 'type_transaction' et 'lieu'\n",
        "features['type_transaction'] = label_encoder.fit_transform(features['type_transaction'])\n",
        "features['lieu'] = label_encoder.fit_transform(features['lieu'])\n",
        "\n",
        "# Afficher un aperçu des données après transformation\n",
        "print(features.head())\n"
      ],
      "metadata": {
        "colab": {
          "base_uri": "https://localhost:8080/"
        },
        "id": "MWWPXrkLVljf",
        "outputId": "cf9e6e3b-a877-478a-d339-4382300c5ad9"
      },
      "execution_count": 71,
      "outputs": [
        {
          "output_type": "stream",
          "name": "stdout",
          "text": [
            "   montant  type_transaction  lieu  revenu_annuel\n",
            "0    200.0                 1     3        35000.0\n",
            "1    500.0                 0     0        45000.0\n",
            "2    150.0                 1     2        52000.0\n",
            "3   1000.0                 0     1        30000.0\n",
            "4    250.0                 1     3        60000.0\n"
          ]
        }
      ]
    },
    {
      "cell_type": "code",
      "source": [
        "## Division des données en ensembles d'entraînement et de test\n",
        "\n",
        "from sklearn.model_selection import train_test_split\n",
        "from sklearn.ensemble import RandomForestClassifier\n",
        "from sklearn.metrics import classification_report, confusion_matrix"
      ],
      "metadata": {
        "id": "6mGLGftfWWlG"
      },
      "execution_count": 20,
      "outputs": []
    },
    {
      "cell_type": "code",
      "source": [
        "# Séparer les variables (features) et la cible (target)\n",
        "X = features\n",
        "y = target\n"
      ],
      "metadata": {
        "id": "757SMG08WiZr"
      },
      "execution_count": 40,
      "outputs": []
    },
    {
      "cell_type": "code",
      "source": [
        "##\n",
        "# Diviser les données en 80% pour l'entraînement et 20% pour le test\n",
        "X_train, X_test, y_train, y_test = train_test_split(X, y, test_size=0.2, random_state=42)\n",
        "\n",
        "# Créer et entraîner le modèle Random Forest\n",
        "model = RandomForestClassifier(n_estimators=100, random_state=42)\n",
        "model.fit(X_train, y_train)\n",
        "\n",
        "# Faire des prédictions sur les données de test\n",
        "y_pred = model.predict(X_test)\n"
      ],
      "metadata": {
        "id": "4Wc0NpAJWnhO"
      },
      "execution_count": 41,
      "outputs": []
    },
    {
      "cell_type": "code",
      "source": [
        "# Évaluation du modèle\n",
        "print(\"Classification Report:\")\n",
        "print(classification_report(y_test, y_pred))\n",
        "\n",
        "print(\"Confusion Matrix:\")\n",
        "print(confusion_matrix(y_test, y_pred))"
      ],
      "metadata": {
        "colab": {
          "base_uri": "https://localhost:8080/"
        },
        "id": "lzgadDo-WxsL",
        "outputId": "087a5c6d-4f69-4147-dc86-61fe60c09620"
      },
      "execution_count": 42,
      "outputs": [
        {
          "output_type": "stream",
          "name": "stdout",
          "text": [
            "Classification Report:\n",
            "              precision    recall  f1-score   support\n",
            "\n",
            "           0       0.52      0.67      0.59       105\n",
            "           1       0.51      0.37      0.43       101\n",
            "\n",
            "    accuracy                           0.52       206\n",
            "   macro avg       0.52      0.52      0.51       206\n",
            "weighted avg       0.52      0.52      0.51       206\n",
            "\n",
            "Confusion Matrix:\n",
            "[[70 35]\n",
            " [64 37]]\n"
          ]
        }
      ]
    },
    {
      "cell_type": "code",
      "source": [
        "from sklearn.model_selection import GridSearchCV\n",
        "\n",
        "# Définir les paramètres à tester\n",
        "param_grid = {\n",
        "    'n_estimators': [50, 100, 200],\n",
        "    'max_depth': [5, 10, 15, None],\n",
        "    'min_samples_split': [2, 5, 10],\n",
        "    'min_samples_leaf': [1, 2, 4]\n",
        "}\n",
        "\n",
        "# Créer le modèle RandomForest\n",
        "rf_model = RandomForestClassifier(random_state=42)\n",
        "\n",
        "# Configurer GridSearchCV\n",
        "grid_search = GridSearchCV(estimator=rf_model, param_grid=param_grid,\n",
        "                           cv=5, n_jobs=-1, verbose=2)\n",
        "\n",
        "# Lancer la recherche sur les meilleurs hyperparamètres\n",
        "grid_search.fit(X_train, y_train)\n",
        "\n",
        "# Afficher les meilleurs paramètres\n",
        "print(\"Meilleurs paramètres : \", grid_search.best_params_)\n",
        "\n",
        "# Utiliser le meilleur modèle trouvé\n",
        "best_rf_model = grid_search.best_estimator_\n",
        "\n",
        "# Évaluer les performances sur le jeu de test\n",
        "y_pred_best = best_rf_model.predict(X_test)\n",
        "print(classification_report(y_test, y_pred_best))\n"
      ],
      "metadata": {
        "colab": {
          "base_uri": "https://localhost:8080/"
        },
        "id": "kjyUyDzHXrTe",
        "outputId": "7eacd999-1b71-48ae-cc04-2da7bc7edc47"
      },
      "execution_count": 43,
      "outputs": [
        {
          "output_type": "stream",
          "name": "stdout",
          "text": [
            "Fitting 5 folds for each of 108 candidates, totalling 540 fits\n",
            "Meilleurs paramètres :  {'max_depth': None, 'min_samples_leaf': 2, 'min_samples_split': 2, 'n_estimators': 200}\n",
            "              precision    recall  f1-score   support\n",
            "\n",
            "           0       0.54      0.69      0.61       105\n",
            "           1       0.55      0.40      0.46       101\n",
            "\n",
            "    accuracy                           0.54       206\n",
            "   macro avg       0.54      0.54      0.53       206\n",
            "weighted avg       0.54      0.54      0.53       206\n",
            "\n"
          ]
        }
      ]
    },
    {
      "cell_type": "code",
      "source": [
        "!pip install faker\n"
      ],
      "metadata": {
        "colab": {
          "base_uri": "https://localhost:8080/"
        },
        "id": "CXqxbXDTafR8",
        "outputId": "5100f9de-2b87-4a43-8988-12a2a25a21d0"
      },
      "execution_count": 44,
      "outputs": [
        {
          "output_type": "stream",
          "name": "stdout",
          "text": [
            "Requirement already satisfied: faker in /usr/local/lib/python3.11/dist-packages (36.1.1)\n",
            "Requirement already satisfied: tzdata in /usr/local/lib/python3.11/dist-packages (from faker) (2025.1)\n"
          ]
        }
      ]
    },
    {
      "cell_type": "code",
      "source": [
        "## Générer un plus grand nombre de données\n",
        "\n",
        "import random\n",
        "import pandas as pd\n",
        "from faker import Faker\n",
        "\n",
        "# Initialiser Faker pour générer des données réalistes\n",
        "fake = Faker()\n",
        "\n",
        "\n",
        "def generate_data(num_records):\n",
        "    data = []\n",
        "    for _ in range(num_records):\n",
        "        client_id = random.randint(1, 30)  # 30 clients différents\n",
        "        montant = random.uniform(50, 5000)  # Montant transactionnel entre 50 et 5000\n",
        "        type_transaction = random.choice(['Retrait', 'Virement', 'Paiement'])\n",
        "        lieu = random.choice(['Paris', 'Bruxelles', 'Lyon', 'Lille'])\n",
        "        fraude = random.choice([0, 1])  # 0 = non fraude, 1 = fraude\n",
        "        revenu_annuel = fake.random_number(digits=5)\n",
        "        data.append([client_id, montant, type_transaction, lieu, fraude, revenu_annuel])\n",
        "\n",
        "    # Créer un DataFrame\n",
        "    return pd.DataFrame(data, columns=['client_id', 'montant', 'type_transaction', 'lieu', 'fraude', 'revenu_annuel'])\n",
        "\n",
        "# Générer 1000 enregistrements supplémentaires pour simuler un grand flux de données\n",
        "larger_data_df = generate_data(1000)\n",
        "print(larger_data_df.head())\n"
      ],
      "metadata": {
        "colab": {
          "base_uri": "https://localhost:8080/"
        },
        "id": "OttiDrGAZuQg",
        "outputId": "e879dac6-3dfe-4f00-d80d-3da09efacd73"
      },
      "execution_count": 45,
      "outputs": [
        {
          "output_type": "stream",
          "name": "stdout",
          "text": [
            "   client_id      montant type_transaction       lieu  fraude  revenu_annuel\n",
            "0         24  2077.133993         Virement      Lille       0          20854\n",
            "1          4  2148.923593         Virement      Lille       1          14699\n",
            "2         25  3994.656315         Paiement      Lille       1          49928\n",
            "3         13  2310.089879         Paiement  Bruxelles       1          49195\n",
            "4          6  3094.077877          Retrait       Lyon       0          60361\n"
          ]
        }
      ]
    },
    {
      "cell_type": "code",
      "source": [
        "# Concaténer les nouvelles données avec les anciennes\n",
        "full_data_df = pd.concat([data_df, larger_data_df], ignore_index=True)\n"
      ],
      "metadata": {
        "id": "bf-xrZIdaqR1"
      },
      "execution_count": 46,
      "outputs": []
    },
    {
      "cell_type": "code",
      "source": [
        "## Utilisation de Scikit-Learn pour entraîner le modèle de détection de fraude\n",
        "\n",
        "from sklearn.ensemble import RandomForestClassifier\n",
        "from sklearn.model_selection import train_test_split\n",
        "from sklearn.metrics import classification_report\n",
        "\n",
        "# Sélectionner les features et la cible\n",
        "features = full_data_df[['montant', 'type_transaction', 'lieu', 'revenu_annuel']]\n",
        "target = full_data_df['fraude']\n",
        "\n",
        "# Encodage des variables catégorielles\n",
        "from sklearn.preprocessing import LabelEncoder\n",
        "label_encoder = LabelEncoder()\n",
        "features.loc[:, 'type_transaction'] = label_encoder.fit_transform(features['type_transaction'])\n",
        "features.loc[:, 'lieu'] = label_encoder.fit_transform(features['lieu'])\n",
        "\n",
        "\n",
        "# Diviser les données en ensembles d'entraînement et de test\n",
        "X_train, X_test, y_train, y_test = train_test_split(features, target, test_size=0.3, random_state=42)\n",
        "\n",
        "# Créer et entraîner le modèle RandomForest\n",
        "model = RandomForestClassifier(n_estimators=100, random_state=42)\n",
        "model.fit(X_train, y_train)\n",
        "\n",
        "# Prédire les résultats\n",
        "y_pred = model.predict(X_test)\n",
        "\n",
        "# Évaluer les performances du modèle\n",
        "print(classification_report(y_test, y_pred))\n"
      ],
      "metadata": {
        "colab": {
          "base_uri": "https://localhost:8080/"
        },
        "id": "xwdPTBOOa0MA",
        "outputId": "ff7f6aa2-d9bf-4155-d1f8-6e7490aff587"
      },
      "execution_count": 47,
      "outputs": [
        {
          "output_type": "stream",
          "name": "stdout",
          "text": [
            "              precision    recall  f1-score   support\n",
            "\n",
            "           0       0.51      0.64      0.57       155\n",
            "           1       0.52      0.39      0.44       154\n",
            "\n",
            "    accuracy                           0.51       309\n",
            "   macro avg       0.52      0.51      0.51       309\n",
            "weighted avg       0.52      0.51      0.51       309\n",
            "\n"
          ]
        }
      ]
    },
    {
      "cell_type": "code",
      "source": [
        "## Connexion a ma base de données\n",
        "import sqlite3\n",
        "\n",
        "# Se connecter à la base de données (remplace le chemin si nécessaire)\n",
        "conn = sqlite3.connect('/content/transactions.db')\n",
        "\n",
        "# Créer un curseur pour exécuter les requêtes SQL\n",
        "cursor = conn.cursor()\n"
      ],
      "metadata": {
        "id": "R4djwpVXeD2E"
      },
      "execution_count": 48,
      "outputs": []
    },
    {
      "cell_type": "code",
      "source": [
        "## Exécution de la  requête SQL\n",
        "\n",
        "# Exemple : obtenir le total des transactions\n",
        "cursor.execute('SELECT COUNT(*) FROM Transactions')\n",
        "\n",
        "# Récupérer le résultat\n",
        "result = cursor.fetchone()\n",
        "\n",
        "# Afficher le résultat\n",
        "print(\"Nombre total de transactions:\", result[0])\n"
      ],
      "metadata": {
        "colab": {
          "base_uri": "https://localhost:8080/"
        },
        "id": "AgBHERXxgTRz",
        "outputId": "ed317278-a116-4a17-d61d-77f207db67ee"
      },
      "execution_count": 49,
      "outputs": [
        {
          "output_type": "stream",
          "name": "stdout",
          "text": [
            "Nombre total de transactions: 30\n"
          ]
        }
      ]
    },
    {
      "cell_type": "code",
      "source": [
        "import pandas as pd\n",
        "\n",
        "# Lire une requête SQL et la mettre dans un DataFrame\n",
        "df = pd.read_sql_query('''\n",
        "SELECT\n",
        "    type_transaction,\n",
        "    COUNT(*) AS total_transactions,\n",
        "    SUM(CASE WHEN fraude = 1 THEN 1 ELSE 0 END) AS fraudulent_transactions\n",
        "FROM Transactions\n",
        "GROUP BY type_transaction;\n",
        "''', conn)\n",
        "\n",
        "# Afficher les résultats dans un DataFrame\n",
        "print(df)\n"
      ],
      "metadata": {
        "colab": {
          "base_uri": "https://localhost:8080/"
        },
        "id": "wsepMOorgfcr",
        "outputId": "20fa0134-4080-4053-f54c-79a93e12cb53"
      },
      "execution_count": 50,
      "outputs": [
        {
          "output_type": "stream",
          "name": "stdout",
          "text": [
            "  type_transaction  total_transactions  fraudulent_transactions\n",
            "0          Retrait                  15                        4\n",
            "1         Virement                  15                        0\n"
          ]
        }
      ]
    },
    {
      "cell_type": "code",
      "source": [
        "\n",
        "conn.close()\n"
      ],
      "metadata": {
        "id": "bEWAogf2gkRN"
      },
      "execution_count": 51,
      "outputs": []
    },
    {
      "cell_type": "code",
      "source": [
        "## Optimisation des hyperparamètres du modèle\n",
        "\n",
        "from sklearn.model_selection import GridSearchCV\n",
        "\n",
        "# Définir les hyperparamètres à tester\n",
        "param_grid = {\n",
        "    'n_estimators': [50, 100, 150],\n",
        "    'max_depth': [5, 10, 15],\n",
        "    'min_samples_split': [2, 5],\n",
        "    'min_samples_leaf': [1, 2]\n",
        "}\n",
        "\n",
        "# Créer un GridSearchCV pour trouver les meilleurs paramètres\n",
        "grid_search = GridSearchCV(RandomForestClassifier(random_state=42), param_grid, cv=5, n_jobs=-1)\n",
        "\n",
        "# Entraîner avec GridSearchCV\n",
        "grid_search.fit(X_train, y_train)\n",
        "\n",
        "# Afficher les meilleurs paramètres\n",
        "print(\"Meilleurs paramètres : \", grid_search.best_params_)\n",
        "\n",
        "# Utiliser les meilleurs paramètres pour entraîner un nouveau modèle\n",
        "best_model = grid_search.best_estimator_\n",
        "\n",
        "# Prédire les résultats avec le meilleur modèle\n",
        "y_pred_best = best_model.predict(X_test)\n",
        "\n",
        "# Évaluer les performances du meilleur modèle\n",
        "print(classification_report(y_test, y_pred_best))\n"
      ],
      "metadata": {
        "colab": {
          "base_uri": "https://localhost:8080/"
        },
        "id": "CrREUH80gn-B",
        "outputId": "7db8b276-cb74-401c-f19d-20af07903d75"
      },
      "execution_count": 52,
      "outputs": [
        {
          "output_type": "stream",
          "name": "stdout",
          "text": [
            "Meilleurs paramètres :  {'max_depth': 5, 'min_samples_leaf': 2, 'min_samples_split': 2, 'n_estimators': 100}\n",
            "              precision    recall  f1-score   support\n",
            "\n",
            "           0       0.49      0.60      0.54       155\n",
            "           1       0.48      0.37      0.42       154\n",
            "\n",
            "    accuracy                           0.49       309\n",
            "   macro avg       0.48      0.49      0.48       309\n",
            "weighted avg       0.48      0.49      0.48       309\n",
            "\n"
          ]
        }
      ]
    },
    {
      "cell_type": "code",
      "source": [
        "##  Vérification de l'importance des features\n",
        "\n",
        "# Afficher l'importance des features\n",
        "importances = model.feature_importances_\n",
        "\n",
        "# Créer un DataFrame pour afficher les importances\n",
        "importance_df = pd.DataFrame({\n",
        "    'Feature': features.columns,\n",
        "    'Importance': importances\n",
        "})\n",
        "\n",
        "# Trier les features par ordre d'importance\n",
        "importance_df = importance_df.sort_values(by='Importance', ascending=False)\n",
        "\n",
        "print(importance_df)\n"
      ],
      "metadata": {
        "colab": {
          "base_uri": "https://localhost:8080/"
        },
        "id": "ONEW7pZLhh_e",
        "outputId": "7093681b-3112-4739-d8b5-b801f95e609d"
      },
      "execution_count": 53,
      "outputs": [
        {
          "output_type": "stream",
          "name": "stdout",
          "text": [
            "            Feature  Importance\n",
            "3     revenu_annuel    0.447559\n",
            "0           montant    0.409594\n",
            "2              lieu    0.078585\n",
            "1  type_transaction    0.064262\n"
          ]
        }
      ]
    },
    {
      "cell_type": "code",
      "source": [
        "# Équilibrage des données\n",
        "\n",
        "from imblearn.over_sampling import SMOTE\n",
        "\n",
        "# Appliquer SMOTE pour équilibrer les classes\n",
        "smote = SMOTE(random_state=42)\n",
        "X_train_smote, y_train_smote = smote.fit_resample(X_train, y_train)\n",
        "\n",
        "# Créer et entraîner le modèle sur les données équilibrées\n",
        "model_smote = RandomForestClassifier(n_estimators=100, random_state=42)\n",
        "model_smote.fit(X_train_smote, y_train_smote)\n",
        "\n",
        "# Prédire et évaluer sur les données de test\n",
        "y_pred_smote = model_smote.predict(X_test)\n",
        "print(classification_report(y_test, y_pred_smote))\n"
      ],
      "metadata": {
        "colab": {
          "base_uri": "https://localhost:8080/"
        },
        "id": "g_znSKl_hwoM",
        "outputId": "ae44437b-ce3b-4507-bdcc-60ec40450b96"
      },
      "execution_count": 54,
      "outputs": [
        {
          "output_type": "stream",
          "name": "stdout",
          "text": [
            "              precision    recall  f1-score   support\n",
            "\n",
            "           0       0.52      0.65      0.58       155\n",
            "           1       0.52      0.38      0.44       154\n",
            "\n",
            "    accuracy                           0.52       309\n",
            "   macro avg       0.52      0.52      0.51       309\n",
            "weighted avg       0.52      0.52      0.51       309\n",
            "\n"
          ]
        }
      ]
    },
    {
      "cell_type": "code",
      "source": [
        "from sklearn.model_selection import cross_val_score\n",
        "\n",
        "# Effectuer une validation croisée\n",
        "cross_val_scores = cross_val_score(best_model, X_train, y_train, cv=5, scoring='accuracy')\n",
        "\n",
        "print(f\"Scores de validation croisée : {cross_val_scores}\")\n",
        "print(f\"Score moyen de validation croisée : {cross_val_scores.mean()}\")\n"
      ],
      "metadata": {
        "colab": {
          "base_uri": "https://localhost:8080/"
        },
        "id": "fsqkiagfifYv",
        "outputId": "25d7b906-e1dc-4cb4-e143-eeea8fbe080b"
      },
      "execution_count": 55,
      "outputs": [
        {
          "output_type": "stream",
          "name": "stdout",
          "text": [
            "Scores de validation croisée : [0.53793103 0.56944444 0.5625     0.51388889 0.54166667]\n",
            "Score moyen de validation croisée : 0.5450862068965516\n"
          ]
        }
      ]
    },
    {
      "cell_type": "code",
      "source": [
        "## Évaluation sur d'autres métriques\n",
        "\n",
        "import seaborn as sns\n",
        "import matplotlib.pyplot as plt\n",
        "from sklearn.metrics import confusion_matrix\n",
        "\n",
        "# Afficher la matrice de confusion\n",
        "conf_matrix = confusion_matrix(y_test, y_pred_best)\n",
        "\n",
        "# Créer un heatmap pour afficher la matrice de confusion\n",
        "sns.heatmap(conf_matrix, annot=True, fmt='d', cmap='Blues', xticklabels=['Non Fraude', 'Fraude'], yticklabels=['Non Fraude', 'Fraude'])\n",
        "plt.xlabel('Prédiction')\n",
        "plt.ylabel('Vérité')\n",
        "plt.title('Matrice de Confusion')\n",
        "plt.show()\n",
        "\n"
      ],
      "metadata": {
        "colab": {
          "base_uri": "https://localhost:8080/",
          "height": 472
        },
        "id": "PKNaJ_UZh5By",
        "outputId": "d7b526d6-d39a-4461-e75a-1a54b5fd15fa"
      },
      "execution_count": 56,
      "outputs": [
        {
          "output_type": "display_data",
          "data": {
            "text/plain": [
              "<Figure size 640x480 with 2 Axes>"
            ],
            "image/png": "[encoded data removed]"
          },
          "metadata": {}
        }
      ]
    },
    {
      "cell_type": "code",
      "source": [
        "from sklearn.model_selection import GridSearchCV\n",
        "from sklearn.ensemble import RandomForestClassifier\n",
        "from imblearn.over_sampling import SMOTE  # Assurez-vous que SMOTE est importé\n",
        "\n",
        "# Vérifier si X_train et y_train existent avant l'échantillonnage\n",
        "print(type(X_train), type(y_train))\n",
        "print(X_train.shape, y_train.shape)\n",
        "\n",
        "# Application de SMOTE pour rééchantillonner les données (si tu utilises SMOTE)\n",
        "smote = SMOTE(random_state=42)\n",
        "X_train_resampled, y_train_resampled = smote.fit_resample(X_train, y_train)\n",
        "\n",
        "# Vérification après rééchantillonnage\n",
        "print(type(X_train_resampled), type(y_train_resampled))\n",
        "print(X_train_resampled.shape, y_train_resampled.shape)\n",
        "\n",
        "# Paramètres à tester\n",
        "param_grid = {\n",
        "    'n_estimators': [100, 150, 200],\n",
        "    'max_depth': [10, 15, 20],\n",
        "    'min_samples_split': [2, 5],\n",
        "    'min_samples_leaf': [1, 2]\n",
        "}\n",
        "\n",
        "# Initialiser GridSearchCV\n",
        "grid_search = GridSearchCV(estimator=RandomForestClassifier(random_state=42),\n",
        "                           param_grid=param_grid,\n",
        "                           cv=5, n_jobs=-1, verbose=2)\n",
        "\n",
        "# Effectuer la recherche\n",
        "grid_search.fit(X_train_resampled, y_train_resampled)\n",
        "\n",
        "# Afficher les meilleurs paramètres\n",
        "print(f\"Meilleurs paramètres : {grid_search.best_params_}\")\n"
      ],
      "metadata": {
        "colab": {
          "base_uri": "https://localhost:8080/"
        },
        "id": "_-o7yKXWjCWb",
        "outputId": "43225f03-385d-4fc6-9415-01ebcd194a6f"
      },
      "execution_count": 60,
      "outputs": [
        {
          "output_type": "stream",
          "name": "stdout",
          "text": [
            "<class 'pandas.core.frame.DataFrame'> <class 'pandas.core.series.Series'>\n",
            "(721, 4) (721,)\n",
            "<class 'pandas.core.frame.DataFrame'> <class 'pandas.core.series.Series'>\n",
            "(754, 4) (754,)\n",
            "Fitting 5 folds for each of 36 candidates, totalling 180 fits\n",
            "Meilleurs paramètres : {'max_depth': 15, 'min_samples_leaf': 1, 'min_samples_split': 2, 'n_estimators': 150}\n"
          ]
        }
      ]
    },
    {
      "cell_type": "code",
      "source": [
        "## Entraîner le modèle avec les meilleurs paramètres\n",
        "\n",
        "# Utiliser les meilleurs paramètres pour entraîner le modèle\n",
        "best_model = RandomForestClassifier(max_depth=15, min_samples_leaf=2, min_samples_split=2, n_estimators=150, random_state=42)\n",
        "best_model.fit(X_train_resampled, y_train_resampled)\n",
        "\n",
        "# Prédire les résultats\n",
        "y_pred_best = best_model.predict(X_test)\n",
        "\n",
        "# Évaluer les performances du modèle\n",
        "from sklearn.metrics import classification_report\n",
        "print(classification_report(y_test, y_pred_best))\n",
        "\n",
        "\n"
      ],
      "metadata": {
        "colab": {
          "base_uri": "https://localhost:8080/"
        },
        "id": "x7vnSQksjxUQ",
        "outputId": "32a5672f-9daa-4a1f-9f11-9981d4c8c994"
      },
      "execution_count": 61,
      "outputs": [
        {
          "output_type": "stream",
          "name": "stdout",
          "text": [
            "              precision    recall  f1-score   support\n",
            "\n",
            "           0       0.49      0.61      0.55       155\n",
            "           1       0.48      0.36      0.41       154\n",
            "\n",
            "    accuracy                           0.49       309\n",
            "   macro avg       0.49      0.49      0.48       309\n",
            "weighted avg       0.49      0.49      0.48       309\n",
            "\n"
          ]
        }
      ]
    },
    {
      "cell_type": "code",
      "source": [
        "import pandas as pd\n",
        "\n",
        "best_model = grid_search.best_estimator_\n",
        "\n",
        "# Obtenir l'importance des features\n",
        "feature_importances = best_model.feature_importances_\n",
        "\n",
        "features = pd.DataFrame(X_train_resampled)\n",
        "\n",
        "# Créer un DataFrame avec l'importance des features\n",
        "feature_importance_df = pd.DataFrame({\n",
        "    'Feature': features.columns,\n",
        "    'Importance': feature_importances\n",
        "})\n",
        "\n",
        "# Trier les features par ordre d'importance\n",
        "feature_importance_df = feature_importance_df.sort_values(by='Importance', ascending=False)\n",
        "\n",
        "# Afficher l'importance des features\n",
        "print(feature_importance_df)\n"
      ],
      "metadata": {
        "colab": {
          "base_uri": "https://localhost:8080/"
        },
        "id": "-tcM5Bk4kO95",
        "outputId": "c03601fd-e159-499d-f01a-d40755e5cd25"
      },
      "execution_count": 84,
      "outputs": [
        {
          "output_type": "stream",
          "name": "stdout",
          "text": [
            "            Feature  Importance\n",
            "3     revenu_annuel    0.429798\n",
            "0           montant    0.406828\n",
            "2              lieu    0.092232\n",
            "1  type_transaction    0.071142\n"
          ]
        }
      ]
    },
    {
      "cell_type": "code",
      "source": [
        "##  visualisation de  l'importance des features avec un graphique\n",
        "\n",
        "import matplotlib.pyplot as plt\n",
        "\n",
        "# Tracer l'importance des features\n",
        "plt.figure(figsize=(10, 6))\n",
        "plt.barh(feature_importance_df['Feature'], feature_importance_df['Importance'])\n",
        "plt.xlabel('Importance')\n",
        "plt.title('Importance des Features')\n",
        "plt.show()\n"
      ],
      "metadata": {
        "colab": {
          "base_uri": "https://localhost:8080/",
          "height": 564
        },
        "id": "U_GOVEgGP2jL",
        "outputId": "063cc762-4a15-4a4e-a1f1-0cd073bd7fae"
      },
      "execution_count": 110,
      "outputs": [
        {
          "output_type": "display_data",
          "data": {
            "text/plain": [
              "<Figure size 1000x600 with 1 Axes>"
            ],
            "image/png": "[encoded data removed]"
          },
          "metadata": {}
        }
      ]
    },
    {
      "cell_type": "code",
      "source": [
        "# Tracer l'importance des features avec les pourcentages\n",
        "plt.figure(figsize=(10, 6))\n",
        "bars = plt.barh(feature_importance_df['Feature'], feature_importance_df['Importance'], color='skyblue')\n",
        "\n",
        "# Ajouter les pourcentages sur les barres\n",
        "for bar in bars:\n",
        "    width = bar.get_width()\n",
        "    plt.text(width - 0.02, bar.get_y() + bar.get_height() / 2, f'{width:.2%}',\n",
        "             va='center', ha='right', color='black', fontweight='bold')\n",
        "\n",
        "plt.xlabel('Importance')\n",
        "plt.title('Importance des Features')\n",
        "plt.show()\n"
      ],
      "metadata": {
        "colab": {
          "base_uri": "https://localhost:8080/",
          "height": 564
        },
        "id": "Sh9BIEVLQazx",
        "outputId": "f251bed2-dda5-4e5d-dfb7-43d2a4fc0847"
      },
      "execution_count": 91,
      "outputs": [
        {
          "output_type": "display_data",
          "data": {
            "text/plain": [
              "<Figure size 1000x600 with 1 Axes>"
            ],
            "image/png": "[encoded data removed]"
          },
          "metadata": {}
        }
      ]
    },
    {
      "cell_type": "code",
      "source": [
        "## Affichage des informationn de ma base de données\n",
        "\n",
        "# Charger les données pour chaque table\n",
        "clients_df = pd.read_sql_query(\"SELECT * FROM Clients\", conn)\n",
        "comptes_df = pd.read_sql_query(\"SELECT * FROM Comptes\", conn)\n",
        "transactions_df = pd.read_sql_query(\"SELECT * FROM Transactions\", conn)\n",
        "\n",
        "# Afficher un aperçu de chaque DataFrame pour vérifier qu'ils sont bien chargés\n",
        "print(\"Clients data:\", clients_df.head())\n",
        "print(\"Comptes data:\", comptes_df.head())\n",
        "print(\"Transactions data:\", transactions_df.head())\n"
      ],
      "metadata": {
        "colab": {
          "base_uri": "https://localhost:8080/"
        },
        "id": "kPPy-7F9T09Y",
        "outputId": "37b60293-67a0-4f2c-cffc-9fca95051ee5"
      },
      "execution_count": 89,
      "outputs": [
        {
          "output_type": "stream",
          "name": "stdout",
          "text": [
            "Clients data:    client_id      nom     prenom  age sexe      pays  revenu_annuel\n",
            "0          1   Dupont      Marie   28    F    France        35000.0\n",
            "1          2   Martin     Pierre   34    M    France        45000.0\n",
            "2          3  Leblanc     Claire   41    F    France        52000.0\n",
            "3          4  Lemoine  Alexandre   23    M  Belgique        30000.0\n",
            "4          5   Benoit     Sophie   45    F    France        60000.0\n",
            "Comptes data:    compte_id  client_id type_compte     solde date_creation\n",
            "0          1          1     Courant   1500.75    2023-01-15\n",
            "1          2          2     Épargne  25000.40    2022-06-23\n",
            "2          3          3     Courant   1200.50    2023-03-05\n",
            "3          4          4     Épargne   5000.10    2022-08-19\n",
            "4          5          5     Courant   2200.80    2023-02-20\n",
            "Transactions data:    transaction_id  compte_id  montant date_transaction type_transaction  \\\n",
            "0               1          1    200.0       2025-02-10         Virement   \n",
            "1               2          2    500.0       2025-02-12          Retrait   \n",
            "2               3          3    150.0       2025-02-14         Virement   \n",
            "3               4          4   1000.0       2025-02-15          Retrait   \n",
            "4               5          5    250.0       2025-02-16         Virement   \n",
            "\n",
            "        lieu  fraude  \n",
            "0      Paris       0  \n",
            "1  Bruxelles       1  \n",
            "2       Lyon       0  \n",
            "3      Lille       0  \n",
            "4      Paris       0  \n"
          ]
        }
      ]
    },
    {
      "cell_type": "code",
      "source": [
        "## Optimisation du modele"
      ],
      "metadata": {
        "id": "T7H3jGMuSeFo"
      },
      "execution_count": 89,
      "outputs": []
    },
    {
      "cell_type": "code",
      "source": [
        "import sqlite3\n",
        "import pandas as pd\n",
        "\n",
        "# Connexion à la base de données SQLite (tu peux remplacer le chemin par ton fichier réel)\n",
        "conn = sqlite3.connect('/content/transactions.db')  # Si ton fichier DB est dans Google Drive ou dans Colab\n",
        "\n",
        "# Charger les données pour chaque table\n",
        "clients_df = pd.read_sql_query(\"SELECT * FROM Clients\", conn)\n",
        "comptes_df = pd.read_sql_query(\"SELECT * FROM Comptes\", conn)\n",
        "transactions_df = pd.read_sql_query(\"SELECT * FROM Transactions\", conn)\n",
        "\n",
        "# Afficher un aperçu de chaque DataFrame pour vérifier qu'ils sont bien chargés\n",
        "print(\"Clients data:\", clients_df.head())\n",
        "print(\"Comptes data:\", comptes_df.head())\n",
        "print(\"Transactions data:\", transactions_df.head())\n"
      ],
      "metadata": {
        "colab": {
          "base_uri": "https://localhost:8080/"
        },
        "id": "0WnBIhn1TURT",
        "outputId": "e09f68d0-b6b7-4831-a47b-90e07fbb2027"
      },
      "execution_count": 95,
      "outputs": [
        {
          "output_type": "stream",
          "name": "stdout",
          "text": [
            "Clients data:    client_id      nom     prenom  age sexe      pays  revenu_annuel\n",
            "0          1   Dupont      Marie   28    F    France        35000.0\n",
            "1          2   Martin     Pierre   34    M    France        45000.0\n",
            "2          3  Leblanc     Claire   41    F    France        52000.0\n",
            "3          4  Lemoine  Alexandre   23    M  Belgique        30000.0\n",
            "4          5   Benoit     Sophie   45    F    France        60000.0\n",
            "Comptes data:    compte_id  client_id type_compte     solde date_creation\n",
            "0          1          1     Courant   1500.75    2023-01-15\n",
            "1          2          2     Épargne  25000.40    2022-06-23\n",
            "2          3          3     Courant   1200.50    2023-03-05\n",
            "3          4          4     Épargne   5000.10    2022-08-19\n",
            "4          5          5     Courant   2200.80    2023-02-20\n",
            "Transactions data:    transaction_id  compte_id  montant date_transaction type_transaction  \\\n",
            "0               1          1    200.0       2025-02-10         Virement   \n",
            "1               2          2    500.0       2025-02-12          Retrait   \n",
            "2               3          3    150.0       2025-02-14         Virement   \n",
            "3               4          4   1000.0       2025-02-15          Retrait   \n",
            "4               5          5    250.0       2025-02-16         Virement   \n",
            "\n",
            "        lieu  fraude  \n",
            "0      Paris       0  \n",
            "1  Bruxelles       1  \n",
            "2       Lyon       0  \n",
            "3      Lille       0  \n",
            "4      Paris       0  \n"
          ]
        }
      ]
    },
    {
      "cell_type": "code",
      "source": [
        "# Créer un index sur la colonne compte_id dans la table Transactions\n",
        "conn.execute('''\n",
        "    CREATE INDEX IF NOT EXISTS idx_compte_id ON Transactions (compte_id);\n",
        "''')\n",
        "\n",
        "# Créer un index sur la colonne date_transaction dans la table Transactions\n",
        "conn.execute('''\n",
        "    CREATE INDEX IF NOT EXISTS idx_date_transaction ON Transactions (date_transaction);\n",
        "''')\n"
      ],
      "metadata": {
        "colab": {
          "base_uri": "https://localhost:8080/"
        },
        "id": "5eHckcN-XVs8",
        "outputId": "5ae5b140-9f29-484a-917f-dd84e09f1326"
      },
      "execution_count": 98,
      "outputs": [
        {
          "output_type": "execute_result",
          "data": {
            "text/plain": [
              "<sqlite3.Cursor at 0x7df4e5e86440>"
            ]
          },
          "metadata": {},
          "execution_count": 98
        }
      ]
    },
    {
      "cell_type": "code",
      "source": [
        "# Exécuter la requête SQL pour obtenir les résultats sous forme de DataFrame\n",
        "query = '''\n",
        "    SELECT t.transaction_id, t.montant, t.date_transaction, t.type_transaction,\n",
        "           t.lieu, t.fraude, cl.nom, cl.prenom, cl.revenu_annuel\n",
        "    FROM Transactions t\n",
        "    JOIN Comptes cpt ON t.compte_id = cpt.compte_id\n",
        "    JOIN Clients cl ON cpt.client_id = cl.client_id;\n",
        "'''\n",
        "\n",
        "# Récupérer les résultats sous forme de DataFrame\n",
        "transactions_with_clients = pd.read_sql_query(query, conn)\n",
        "\n",
        "# Afficher les résultats\n",
        "print(transactions_with_clients.head())\n"
      ],
      "metadata": {
        "colab": {
          "base_uri": "https://localhost:8080/"
        },
        "id": "tUm_yLEVYA1b",
        "outputId": "d01bd9ff-c0e1-4049-87fd-682a155cc5ad"
      },
      "execution_count": 102,
      "outputs": [
        {
          "output_type": "stream",
          "name": "stdout",
          "text": [
            "   transaction_id  montant date_transaction type_transaction       lieu  \\\n",
            "0               1    200.0       2025-02-10         Virement      Paris   \n",
            "1               2    500.0       2025-02-12          Retrait  Bruxelles   \n",
            "2               3    150.0       2025-02-14         Virement       Lyon   \n",
            "3               4   1000.0       2025-02-15          Retrait      Lille   \n",
            "4               5    250.0       2025-02-16         Virement      Paris   \n",
            "\n",
            "   fraude      nom     prenom  revenu_annuel  \n",
            "0       0   Dupont      Marie        35000.0  \n",
            "1       1   Martin     Pierre        45000.0  \n",
            "2       0  Leblanc     Claire        52000.0  \n",
            "3       0  Lemoine  Alexandre        30000.0  \n",
            "4       0   Benoit     Sophie        60000.0  \n"
          ]
        }
      ]
    },
    {
      "cell_type": "code",
      "source": [
        "## Agrégations pour analyser les montants des transactions par type de transaction\n",
        "\n",
        "query = '''\n",
        "    SELECT type_transaction, SUM(montant) AS total_montant\n",
        "    FROM Transactions\n",
        "    GROUP BY type_transaction\n",
        "    ORDER BY total_montant DESC\n",
        "'''\n",
        "\n",
        "aggregated_data_df = pd.read_sql_query(query, conn)\n",
        "print(aggregated_data_df.head())\n"
      ],
      "metadata": {
        "colab": {
          "base_uri": "https://localhost:8080/"
        },
        "id": "_H2XGSDyYsUe",
        "outputId": "5e6b9479-1d89-49b4-9b88-8a505bc4edd3"
      },
      "execution_count": 104,
      "outputs": [
        {
          "output_type": "stream",
          "name": "stdout",
          "text": [
            "  type_transaction  total_montant\n",
            "0          Retrait        10650.0\n",
            "1         Virement         8370.0\n"
          ]
        }
      ]
    },
    {
      "cell_type": "code",
      "source": [],
      "metadata": {
        "id": "3n-S6rdnY2v6"
      },
      "execution_count": 109,
      "outputs": []
    }
  ]
}